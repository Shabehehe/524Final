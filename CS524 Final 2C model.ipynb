{
 "cells": [
  {
   "cell_type": "markdown",
   "metadata": {
    "collapsed": true
   },
   "source": [
    "## 2. Mathematical model ##\n",
    "\n",
    "### 2C. Optimalizing Salary Budget for Optimal Fantasy Lineups\n",
    "\n",
    "To optimize and find the best team at ten different budgets, while staying within a certain amount of money, we utilize a mixed integer program with binomial array variables, with the variables representing a player catagory or player position. Each element represents a certain player in each of the variables. What's different is that since we are finding ten optimal rosters, we optimize and do ten different runs. Players available are still the same and are ordered coresponding to the file DKSalaries2.csv. \n",
    "\n",
    "For the first constraint, Σ players[i] for i in 2:numPlayers <= 8, is that the number of players, the sum of all elements in variable players, is still that the number of players on an optimal team cannot be greater than 8.\n",
    "\n",
    "For the second block of constraint: For all of the variable arrays other than the variable players, a element is labeled with a 0 or 1 if they are considered by the data to be in that category or position, and a 0 if they are not. Note that all players are also utility players (UTIL), which basically is a flexible, nonconstrainted position to the team of eight that we are trying to optimize. In addition, all power and short guards are also considered the position guards, and all power and short forwards are also considered the position forward, as defined by DraftKings.\n",
    "\n",
    "The third constraint, Σ (players[i] * playerList[i,6]) for i in 2:numPlayers <= cap[z], is that the sum of the salaries for each of the eight players chosen cannot be over the different salary budgets, ranging from $10,000 to $100,000, at $10,000 increments.\n",
    "\n",
    "The fourth constraint, pg[i] + sg[i] + sf[i] + pf[i] + c[i] + f[i] + util[i] - players[i] == 0, checks that for each roster position in the optimal lineup, each selected player will end up being classified at only one position. This also ensures that there is the number of players is equal to the sum of players at each position.\n",
    "\n",
    "The fifth block of constraints is that for each position, there cannot be more than one player at each selected position to be chosen. Even though there are overlaps for each player in what position they play, the model is deisigned so that a player from each position will be chosen.\n",
    "\n",
    "The objective that we are trying to maximize is that the sum of the average number of fantasy points from all the chosen players, for each amount of money that is available.\n",
    "\n",
    "And here is an example of an optimization problem in standard form:\n",
    "\n",
    "$$\n",
    "\\begin{aligned}\n",
    "\\underset{x \\in \\mathbb{R^n}}{\\text{maximize}}\\qquad& f_0(x) \\\\\n",
    "\\text{subject to:}\\qquad& f_i(x) \\le 0 && i=1,\\dots,m\\\\\n",
    "& h_j(x) = 0 && j=1,\\dots,r\n",
    "\\end{aligned}\n",
    "$$\n",
    "\n",
    "For some quick tips on using $\\LaTeX$, see [this cheat sheet](http://users.dickinson.edu/~richesod/latex/latexcheatsheet.pdf)."
   ]
  }
 ],
 "metadata": {
  "kernelspec": {
   "display_name": "Julia 0.6.2",
   "language": "julia",
   "name": "julia-0.6"
  },
  "language_info": {
   "file_extension": ".jl",
   "mimetype": "application/julia",
   "name": "julia",
   "version": "0.6.2"
  }
 },
 "nbformat": 4,
 "nbformat_minor": 1
}
