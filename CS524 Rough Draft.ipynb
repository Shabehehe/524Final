{
 "cells": [
  {
   "cell_type": "markdown",
   "metadata": {},
   "source": [
    "# CS/ECE/ISyE 524 &mdash; Introduction to Optimization &mdash; Spring 2018 ###\n",
    "\n",
    "# Optimization of Various Fantasy Teams#\n",
    "\n",
    "#### Michael Yang (yang363@wisc.edu), Brendon Lapp (blapp@wisc.edu), Luke Steidl (lsteidl@wisc.edu), and Samual Thorson (sthorson@wisc.edu)\n",
    "\n",
    "*****\n",
    "\n",
    "### Table of Contents\n",
    "\n",
    "1. [Introduction](#1.-Introduction)\n",
    "1. [Mathematical Model](#2.-Mathematical-model)\n",
    "  1. [2A. Best Team Optimal Mathematical Model ](#2A. Best Team Optimal Mathematical Model )\n",
    "  1. [2B. Best Top 10 Teams Optimal Mathematical Model](#2B. Best Top 10 Teams Optimal Mathematical Model)\n",
    "  1. [2C. Optimalizing Salary Budget for Optimal Fantasy Lineups](#2C. Optimalizing Salary Budget for Optimal Fantasy Lineups)\n",
    "1. [Solution](#3.-Solution)\n",
    "1. [Results and Discussion](#4.-Results-and-discussion)\n",
    "  1. [4A. Optimal Team](#4A. Optimal Team)\n",
    "  1. [4B. Top X Optimal Teams](#4B. Top X Optimal Teams)\n",
    "  1. [4C. Salary Cap Adjustments](#4C. Salary Cap Adjustments)\n",
    "1. [Conclusion](#5.-Conclusion)"
   ]
  },
  {
   "cell_type": "markdown",
   "metadata": {
    "collapsed": true
   },
   "source": [
    "## 1. Introduction ##\n",
    "\n",
    "Fantasy sport teams is a hobby cherished by many sport fans all over the United States. Ranging from football and soccer, to basketball and baseball, fantasy teams is a great for Americans to get together and support their favorite players and teams. Because this sort of hobby can involve people to bet money, this can be quite a competitive American pastime for bragging rights. \n",
    "\n",
    "Among one of many different place to bet money on competitive sport performances is the website DraftKings. DraftKings is a website where millions of Americans can go to bet money on sports players and team performances. Our final project will investigate how an user on DraftKings is able to optimal their NBA roster so that it can still meet their salary budget, and finding out the optimal budget and tradeoff curve that will get the user the best fantasy team possible. In addition, we will also simulate a mock draft with users who displayed differnt ideologies and points of emphasis, to show the most optimal team that can be selected based on the outcome of those other users.\n",
    "\n",
    "The data that we used is based off the online fantasy website [DraftKings](https://www.draftkings.com)), where we obtained avaiable players, positions that they can play at, their cost to draft the player (Salary), and the avergae number of points that they can put up in a game. \n",
    "\n",
    "The outline of this report will be presented in a way where we first introduce the differnt mathematical models that represent each scenario. Then, we present the code behind each model and break down certain parts of the code for comprehension. From there, we discuss and intepret the results from the model. And finally, we will state our concusion and disscuss about any limitations, as well as possible improvements for all of our models."
   ]
  },
  {
   "cell_type": "markdown",
   "metadata": {
    "collapsed": true
   },
   "source": [
    "## 2. Mathematical Model ##\n",
    "\n",
    "The assumptions are that all the models is based on typical fantasy basketball team websites like DraftKings so most of the assumptions made in the following models are directly from DraftKings or the NBA. For starters, an optimal lineup is always going to consist of one small forward, one small guard, one power forward, one power guard, one center, one flexible guard, one flexible forward, and an utilty player, for a total of eight players. NBA team rosters usually have a lot more than eight players on a team so that teams are not stressed out, but to make things easier for fantasy owners, DraftKings just keeps the roster lineup size to eight players. For the purpose of our project, we obtained a roster of 92 players that were scheduled to play that day, April 19th, from DraftKings, namely the csv file DKSalaries2.csv. Inside that file also contains data such as the defined positions that they can play at, the amount to draft specific players, and the average number of fantasy points scored per game. Note that the salary for each player, as well as fantasy points that a player scores is determined by how well they play during a game. Factors considered include statistics like rebounds, points scored, assists, steals, blocks, minutes played, and more. Of course, the better the player does when playing games, the better statistics they have, and the more valuable they are, corresponding to an higher salary and average fantasy points scored.\n",
    "\n",
    "\n",
    "### 2A. Best Team Optimal Mathematical Model ###\n",
    "\n",
    "To optimize and find the best team, while staying within a certain amount of money, we utilize a mixed integer program with binomial array variables, with the variables representing a player catagory or player position. Each element represents a certain player in each of the variables. They are ordered coresponding to the file DKSalaries2.csv. \n",
    "\n",
    "Our first constraint, $\\Sigma$ players[i] for i in 2:numPlayers <= 8, is that the number of players, the sum of all elements in variable players, that we need to a team cannot be greater than 8.\n",
    "\n",
    "For the second block of constraint: For all of the variable arrays other than the variable players, a element is labeled with a 0 or 1 if they are considered by the data to be in that category or position, and a 0 if they are not. Note that all players are also utility players (UTIL), which basically is a flexible, nonconstrainted position to the team of eight that we are trying to optimize. In addition, all power and short guards are also considered the position guards, and all power and short forwards are also considered the position forward.\n",
    "\n",
    "The third constraint, $\\Sigma$ (players[i] * playerList[i,6]) for i in 2:numPlayers <= 50000, is that the sum of the salaries for each of the eight players chosen cannot be over the salary budget, $50,000. \n",
    "\n",
    "The fourth constraint, pg[i] + sg[i] + sf[i] + pf[i] + c[i] + f[i] + util[i] - players[i] == 0, checks that for each roster position in the optimal lineup, each selected player will end up being classified at only one position. This also ensures that there is the number of players is equal to the sum of players at each position.\n",
    "\n",
    "The fifth block of constraints is that for each position, there cannot be more than one player at each selected position to be chosen. Even though there are overlaps for each player in what position they play, the model is deisigned so that a player from each position will be chosen. \n",
    "\n",
    "The objective that we are trying to maximize is that the sum of the average number of fantasy points from all the chosen players. \n",
    "\n",
    "And here is an example of an optimization problem in standard form:\n",
    "\n",
    "$$\n",
    "\\begin{aligned}\n",
    "\\underset{x \\in \\mathbb{R^n}}{\\text{maximize}}\\qquad& f_0(x) \\\\\n",
    "\\text{subject to:}\\qquad& f_i(x) \\le 0 && i=1,\\dots,m\\\\\n",
    "& h_j(x) = 0 && j=1,\\dots,r\n",
    "\\end{aligned}\n",
    "$$\n",
    "\n",
    "For some quick tips on using $\\LaTeX$, see [this cheat sheet](http://users.dickinson.edu/~richesod/latex/latexcheatsheet.pdf).\n"
   ]
  },
  {
   "cell_type": "markdown",
   "metadata": {},
   "source": [
    "\n",
    "### 2B. Best Top 10 Teams Optimal Mathematical Model\n",
    "\n",
    "To optimize and find the best ten teams, while staying within a certain amount of money, we utilize a mixed integer program with the same binomial array variables, except the arrays are 2D, with elements representing both certains players and for which one of the ten rosters we will use it for. In addition, rosterPoints is an array variable where each element stores the optimal number of fantasy points for each team. They are ordered coresponding to the file DKSalaries2.csv. Note that all constraints are looped to check this for every one of the top 10 teams j, unless stated otherwise.\n",
    "\n",
    "Our first constraint, $\\Sigma$ players[i,j] for i in 2:numPlayers <= 8, is that the number of players, the sum of all elements in variable players, that we need to a team cannot be greater than 8. \n",
    "\n",
    "For the second block of constraints: For all of the variable arrays other than the variable players and variable rosterPoints, a element is labeled with a 0 or 1 if they are considered by the data to be in that category or position, and a 0 if they are not. Note that all players are also utility players (UTIL), which basically is a flexible, nonconstrainted position to the team of eight that we are trying to optimize. In addition, all power and short guards are also considered the position guards, and all power and short forwards are also considered the position forward.\n",
    "\n",
    "The third constraint, $\\Sigma$ (players[i,j] * playerList[i,6]) for i in 2:numPlayers <= 50000, is that the sum of the salaries for each of the eight players chosen cannot be over the salary budget, $50,000. \n",
    "\n",
    "The fourth constraint, pg[i,j] + sg[i,j] + sf[i,j] + pf[i,j] + c[i,j] + f[i,j] + util[i,j] - players[i,j] == 0, checks that for each roster position in the optimal lineup, each selected player will end up being classified at only one position. This also ensures that there is the number of players is equal to the sum of players at each position.\n",
    "\n",
    "The fifth block of constraints is that for each position, there cannot be more than one player at each selected position to be chosen. Even though there are overlaps for each player in what position they play, the model is deisigned so that a player from each position will be chosen. \n",
    "\n",
    "The sixth constraint, rosterPoints[i] - sum(players[j,i] * playerList[j,9] for j in 2:92) == 0, states that each optimal lineup's total number of fantasy points is equal to the sum of all the selected player's average fantasy points scored per game.\n",
    "\n",
    "The seventh constraint, rosterPoints[i - 1] - rosterPoints[i] - .01 >= 0 , indicates that for every optimal lineup after the best optimal lineup, the total number of fantasy points for the best lineup is more than the next best lineup, 2nd best lineup's points are greater than the 3rd best lineup, and so on. Since, you cannot solely represent a greater than or less than expressions in Julia, we contained a difference in 0.01 so that we can ensure that there is a significant enough difference between two optimal lineup's total number of fantasy points.\n",
    "\n",
    "The objective that we are trying to maximize is that the sum of the average number of fantasy points from all the chosen players from all ten optimal rosters. \n",
    "\n",
    "And here is an example of an optimization problem in standard form:\n",
    "\n",
    "$$\n",
    "\\begin{aligned}\n",
    "\\underset{x \\in \\mathbb{R^n}}{\\text{maximize}}\\qquad& f_0(x) \\\\\n",
    "\\text{subject to:}\\qquad& f_i(x) \\le 0 && i=1,\\dots,m\\\\\n",
    "& h_j(x) = 0 && j=1,\\dots,r\n",
    "\\end{aligned}\n",
    "$$\n",
    "\n",
    "For some quick tips on using $\\LaTeX$, see [this cheat sheet](http://users.dickinson.edu/~richesod/latex/latexcheatsheet.pdf)."
   ]
  },
  {
   "cell_type": "markdown",
   "metadata": {},
   "source": [
    "\n",
    "\n",
    "### 2C. Optimalizing Salary Budget for Optimal Fantasy Lineups\n",
    "\n",
    "To optimize and find the best team at ten different budgets, while staying within a certain amount of money, we utilize a mixed integer program with binomial array variables, with the variables representing a player catagory or player position. Each element represents a certain player in each of the variables. What's different is that since we are finding ten optimal rosters, we optimize and do ten different runs. Players available are still the same and are ordered coresponding to the file DKSalaries2.csv. \n",
    "\n",
    "For the first constraint, Σ players[i] for i in 2:numPlayers <= 8, is that the number of players, the sum of all elements in variable players, is still that the number of players on an optimal team cannot be greater than 8.\n",
    "\n",
    "For the second block of constraint: For all of the variable arrays other than the variable players, a element is labeled with a 0 or 1 if they are considered by the data to be in that category or position, and a 0 if they are not. Note that all players are also utility players (UTIL), which basically is a flexible, nonconstrainted position to the team of eight that we are trying to optimize. In addition, all power and short guards are also considered the position guards, and all power and short forwards are also considered the position forward, as defined by DraftKings.\n",
    "\n",
    "The third constraint, Σ (players[i] * playerList[i,6]) for i in 2:numPlayers <= cap[z], is that the sum of the salaries for each of the eight players chosen cannot be over the different salary budgets, ranging from $10,000 to $100,000, at $10,000 increments.\n",
    "\n",
    "The fourth constraint, pg[i] + sg[i] + sf[i] + pf[i] + c[i] + f[i] + util[i] - players[i] == 0, checks that for each roster position in the optimal lineup, each selected player will end up being classified at only one position. This also ensures that there is the number of players is equal to the sum of players at each position.\n",
    "\n",
    "The fifth block of constraints is that for each position, there cannot be more than one player at each selected position to be chosen. Even though there are overlaps for each player in what position they play, the model is deisigned so that a player from each position will be chosen.\n",
    "\n",
    "The objective that we are trying to maximize is that the sum of the average number of fantasy points from all the chosen players, for each amount of money that is available.\n",
    "\n",
    "And here is an example of an optimization problem in standard form:\n",
    "\n",
    "$$\n",
    "\\begin{aligned}\n",
    "\\underset{x \\in \\mathbb{R^n}}{\\text{maximize}}\\qquad& f_0(x) \\\\\n",
    "\\text{subject to:}\\qquad& f_i(x) \\le 0 && i=1,\\dots,m\\\\\n",
    "& h_j(x) = 0 && j=1,\\dots,r\n",
    "\\end{aligned}\n",
    "$$\n",
    "\n",
    "For some quick tips on using $\\LaTeX$, see [this cheat sheet](http://users.dickinson.edu/~richesod/latex/latexcheatsheet.pdf)."
   ]
  },
  {
   "cell_type": "markdown",
   "metadata": {},
   "source": [
    "## 3. Solution ##"
   ]
  },
  {
   "cell_type": "markdown",
   "metadata": {},
   "source": [
    "## 4. Results and Discussion\n",
    "\n",
    "Since our results do come from a csv file listing NBA players available for a particular day, for interactive purposes, you can go to the DraftKings website and download a csv file conntaining today's players available to play. For any model, as long as you put in the name of the csv file containing the players that you would like to choose from, you should be able to obtain optimal results. \n",
    "\n",
    "### 4A. Optimal Team\n",
    "This model extracts NBA player information from DKSalaries2.csv. The Mosek solver finds an optimal team by maximizing the total projected points. A single player from each of the following positions is allowed: PG, SG, SF, PF, C, G, F, C, UTIL. In some cases, players are eligible to fill multiple positions. For example, all players are included in the \"UTIL\" category. Also, players from categories \"PG\" and \"SG\" may also fulfill the \"G\" requirement for a team. Player selection is limited by a total salary cap of $50,000. The results display details about the optimal team. First, the maximized \"projected points\" value is printed. This is followed by a list of chosen players. Each line contains the name of each player followed by their salary requirement, individual projected points and assigned position.\n",
    "\n",
    "\n",
    "| Player            | Salary        | Points | Position |\n",
    "| ----------------- |:-------------:| ------:|---------:|\n",
    "| Anthony Davis     | 10900         |  54.06 |   PF     |\n",
    "| Damian Lillard    | 8900          |  45.25 |   PG     |\n",
    "| CJ McCollum       | 6700          |  34.42 |   SG     |\n",
    "| Robert Covington  | 5600          |  28.13 |   F      | \n",
    "| Hassan Whiteside  | 5400          |  33.77 |   UTIL   |\n",
    "| Pau Gasol         | 4500          |  27.10 |   C      |\n",
    "| Kyle Anderson     | 4000          |  22.58 |   SF     | \n",
    "| Tyler Johnson     | 3900          |  22.10 |   G      |\n",
    "|\n",
    "||Total Projected Points: 267.410"
   ]
  },
  {
   "cell_type": "markdown",
   "metadata": {},
   "source": [
    "### 4B. Top X Optimal Teams \n",
    "The following model is an expansion of the original Mosek optimization problem. Since the first optimization is based on DraftKing's prediction of each players performance, room for error is expected when comparing projected points to actual points acquired. Taking this into consideration, the next solver follows a similar procedure to select multiple solutions. The top 20 optimizations are found and the results are displayed. Since estimated points are used to decide outcomes for this solver, it is more realistic that a variety of team choices are displayed. DraftKings also accepts multiple roster submissions from each user so knowing a range of potential selections is helpful. The relevancy of multiple solutions is also apparent from the results when considering the marginal difference between the expected points from the \"optimal\" team (260.23) and the fourth \"sub-optimal\" team (258.53).\n",
    "\n",
    "| Optimal (X)       | Projected Points      | \n",
    "| ----------------- |:---------------------:| \n",
    "| 1                 |          267.410      |\n",
    "| 2                 |          267.410      |\n",
    "| 3                 |          267.410      |\n",
    "| 4                 |          267.410      |\n",
    "| 5                 |          267.410      |\n",
    "| 6                 |          267.410      |\n",
    "| 7                 |          267.410      |\n",
    "| 8                 |          267.410      |\n",
    "| 9                 |          267.410      |\n",
    "| 10                |          267.410      |\n",
    "| 11                |          267.410      |\n",
    "| 12                |          267.410      |\n",
    "| 13                |          267.410      |\n",
    "| 14                |          267.410      |\n",
    "| 15                |          267.410      |\n",
    "| 16                |          267.410      |\n",
    "| 17                |          267.410      |\n",
    "| 18                |          267.410      |\n",
    "| 1                 |          267.410      |\n",
    "| 1                 |          267.410      |"
   ]
  },
  {
   "cell_type": "markdown",
   "metadata": {},
   "source": [
    "### 4C. Salary Cap Adjustments\n",
    "The purpose of our third implementation of the Mosek solver is to explore DraftKings decision to place a salary cap at  \\$50,000. To help understand why this value was selected, the  model was expanded to include solutions to a variety of potential salary caps. The code loops through the solver multiple times and displays the impact of shifting a crucial varible, spending cash. The allowed cash is incremented by \\$5,000 each time and spans from \\$5k to \\$100k. Our results plot the data and make it clear that at a certain point, access to more money is ineffective in achieving a higher projected score. This value is roughly \\$70,000. \n",
    "\n"
   ]
  },
  {
   "cell_type": "markdown",
   "metadata": {},
   "source": [
    "## 5. Conclusion"
   ]
  },
  {
   "cell_type": "code",
   "execution_count": null,
   "metadata": {
    "collapsed": true
   },
   "outputs": [],
   "source": []
  }
 ],
 "metadata": {
  "kernelspec": {
   "display_name": "Julia 0.6.2",
   "language": "julia",
   "name": "julia-0.6"
  },
  "language_info": {
   "file_extension": ".jl",
   "mimetype": "application/julia",
   "name": "julia",
   "version": "0.6.2"
  }
 },
 "nbformat": 4,
 "nbformat_minor": 1
}
