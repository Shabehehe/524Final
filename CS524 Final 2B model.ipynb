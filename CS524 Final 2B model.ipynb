{
 "cells": [
  {
   "cell_type": "markdown",
   "metadata": {
    "collapsed": true
   },
   "source": [
    "## 2. Mathematical model ##\n",
    "\n",
    "###2B. Best Top 10 Teams Optimal Mathematical Model\n",
    "\n",
    "To optimize and find the best ten teams, while staying within a certain amount of money, we utilize a mixed integer program with the same binomial array variables, except the arrays are 2D, with elements representing both certains players and for which one of the ten rosters we will use it for. In addition, rosterPoints is an array variable where each element stores the optimal number of fantasy points for each team. They are ordered coresponding to the file DKSalaries2.csv. Note that all constraints are looped to check this for every one of the top 10 teams j, unless stated otherwise.\n",
    "\n",
    "Our first constraint, $\\Sigma$ players[i,j] for i in 2:numPlayers <= 8, is that the number of players, the sum of all elements in variable players, that we need to a team cannot be greater than 8. \n",
    "\n",
    "For the second block of constraints: For all of the variable arrays other than the variable players and variable rosterPoints, a element is labeled with a 0 or 1 if they are considered by the data to be in that category or position, and a 0 if they are not. Note that all players are also utility players (UTIL), which basically is a flexible, nonconstrainted position to the team of eight that we are trying to optimize. In addition, all power and short guards are also considered the position guards, and all power and short forwards are also considered the position forward.\n",
    "\n",
    "The third constraint, $\\Sigma$ (players[i,j] * playerList[i,6]) for i in 2:numPlayers <= 50000, is that the sum of the salaries for each of the eight players chosen cannot be over the salary budget, $50,000. \n",
    "\n",
    "The fourth constraint, pg[i,j] + sg[i,j] + sf[i,j] + pf[i,j] + c[i,j] + f[i,j] + util[i,j] - players[i,j] == 0, checks that for each roster position in the optimal lineup, each selected player will end up being classified at only one position. This also ensures that there is the number of players is equal to the sum of players at each position.\n",
    "\n",
    "The fifth block of constraints is that for each position, there cannot be more than one player at each selected position to be chosen. Even though there are overlaps for each player in what position they play, the model is deisigned so that a player from each position will be chosen. \n",
    "\n",
    "The sixth constraint, rosterPoints[i] - sum(players[j,i] * playerList[j,9] for j in 2:92) == 0, states that each optimal lineup's total number of fantasy points is equal to the sum of all the selected player's average fantasy points scored per game.\n",
    "\n",
    "The seventh constraint, rosterPoints[i - 1] - rosterPoints[i] - .01 >= 0 , indicates that for every optimal lineup after the best optimal lineup, the total number of fantasy points for the best lineup is more than the next best lineup, 2nd best lineup's points are greater than the 3rd best lineup, and so on. Since, you cannot solely represent a greater than or less than expressions in Julia, we contained a difference in 0.01 so that we can ensure that there is a significant enough difference between two optimal lineup's total number of fantasy points.\n",
    "\n",
    "The objective that we are trying to maximize is that the sum of the average number of fantasy points from all the chosen players from all ten optimal rosters. \n",
    "\n",
    "And here is an example of an optimization problem in standard form:\n",
    "\n",
    "$$\n",
    "\\begin{aligned}\n",
    "\\underset{x \\in \\mathbb{R^n}}{\\text{maximize}}\\qquad& f_0(x) \\\\\n",
    "\\text{subject to:}\\qquad& f_i(x) \\le 0 && i=1,\\dots,m\\\\\n",
    "& h_j(x) = 0 && j=1,\\dots,r\n",
    "\\end{aligned}\n",
    "$$\n",
    "\n",
    "For some quick tips on using $\\LaTeX$, see [this cheat sheet](http://users.dickinson.edu/~richesod/latex/latexcheatsheet.pdf)."
   ]
  },
  {
   "cell_type": "code",
   "execution_count": null,
   "metadata": {
    "collapsed": true
   },
   "outputs": [],
   "source": []
  }
 ],
 "metadata": {
  "kernelspec": {
   "display_name": "Julia 0.6.2",
   "language": "julia",
   "name": "julia-0.6"
  },
  "language_info": {
   "file_extension": ".jl",
   "mimetype": "application/julia",
   "name": "julia",
   "version": "0.6.2"
  }
 },
 "nbformat": 4,
 "nbformat_minor": 1
}
