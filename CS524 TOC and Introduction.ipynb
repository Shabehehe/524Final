{
 "cells": [
  {
   "cell_type": "markdown",
   "metadata": {},
   "source": [
    "# CS/ECE/ISyE 524 &mdash; Introduction to Optimization &mdash; Spring 2018 ###\n",
    "\n",
    "# Optimization of Various Fantasy Teams#\n",
    "\n",
    "#### Michael Yang (yang363@wisc.edu), Brendon Lapp (blapp@wisc.edu), Student 3 (email address), and Student 4 (email address)\n",
    "\n",
    "*****\n",
    "\n",
    "### Table of Contents\n",
    "\n",
    "1. [Introduction](#1.-Introduction)\n",
    "1. [Mathematical Model](#2.-Mathematical-model)\n",
    "1. [Solution](#3.-Solution)\n",
    "1. [Results and Discussion](#4.-Results-and-discussion)\n",
    "  1. [Optional Subsection](#4.A.-Feel-free-to-add-subsections)\n",
    "1. [Conclusion](#5.-Conclusion)"
   ]
  },
  {
   "cell_type": "markdown",
   "metadata": {
    "collapsed": true
   },
   "source": [
    "## 1. Introduction ##\n",
    "\n",
    "Fantasy sport teams is a hobby cherished by many sport fans all over the United States. Ranging from football and soccer, to basketball and baseball, fantasy teams is a great for Americans to get together and support their favorite players and teams. Because this sort of hobby can involve people to bet money, this can be quite a competitive American pastime for bragging rights. \n",
    "\n",
    "Among one of many different place to bet money on competitive sport performances is the website DraftKings. DraftKings is a website where millions of Americans can go to bet money on sports players and team performances. Our final project will investigate how an user on DraftKings is able to optimal their NBA roster so that it can still meet their salary budget, and finding out the optimal budget and tradeoff curve that will get the user the best fantasy team possible. In addition, we will also simulate a mock draft with users who displayed differnt ideologies and points of emphasis, to show the most optimal team that can be selected based on the outcome of those other users.\n",
    "\n",
    "The data that we used is based off the online fantasy website [DraftKings](https://www.draftkings.com)), where we obtained avaiable players, positions that they can play at, their cost to draft the player (Salary), and the avergae number of points that they can put up in a game. \n",
    "\n",
    "The outline of this report will be presented in a way where we first introduce the differnt mathematical models that represent each scenario. Then, we present the code behind each model and break down certain parts of the code for comprehension. From there, we discuss and intepret the results from the model. And finally, we will state our concusion and disscuss about any limitations, as well as possible improvements for all of our models."
   ]
  },
  {
   "cell_type": "code",
   "execution_count": null,
   "metadata": {
    "collapsed": true
   },
   "outputs": [],
   "source": []
  }
 ],
 "metadata": {
  "kernelspec": {
   "display_name": "Julia 0.6.2",
   "language": "julia",
   "name": "julia-0.6"
  },
  "language_info": {
   "file_extension": ".jl",
   "mimetype": "application/julia",
   "name": "julia",
   "version": "0.6.2"
  }
 },
 "nbformat": 4,
 "nbformat_minor": 1
}
